{
 "cells": [
  {
   "cell_type": "markdown",
   "id": "1fb1844b",
   "metadata": {},
   "source": [
    "# Лаб 1  Швердяков Михаил А-06-21 Вар 13\n",
    "\n",
    "## Пролог\n",
    "\n",
    "Для используемого ПО найдем значения машинного нуля, машинной бесконечности и\n",
    "машинного эпсилон."
   ]
  },
  {
   "cell_type": "code",
   "execution_count": 41,
   "id": "80a5f456",
   "metadata": {},
   "outputs": [
    {
     "name": "stdout",
     "output_type": "stream",
     "text": [
      "Машинный ноль - 5e-324 где степень двойки - 1075\n"
     ]
    }
   ],
   "source": [
    "x0 = 1.0\n",
    "k = 1\n",
    "\n",
    "while (x0 / 2) > 0:\n",
    "    x0 /= 2\n",
    "    k += 1\n",
    "\n",
    "print(\"Машинный ноль -\", x0, \"где степень двойки -\", k)"
   ]
  },
  {
   "cell_type": "code",
   "execution_count": 42,
   "id": "700e8674",
   "metadata": {},
   "outputs": [],
   "source": [
    "import numpy as np"
   ]
  },
  {
   "cell_type": "code",
   "execution_count": 43,
   "id": "17f771a7",
   "metadata": {},
   "outputs": [
    {
     "name": "stdout",
     "output_type": "stream",
     "text": [
      "Машинная бесконечность - 8.98846567431158e+307 где степень двойки - 1024\n"
     ]
    }
   ],
   "source": [
    "x_inf = 1.0\n",
    "k = 1\n",
    "\n",
    "while np.isfinite(2 * x_inf):\n",
    "    x_inf *= 2\n",
    "    k += 1\n",
    "\n",
    "print(\"Машинная бесконечность -\", x_inf, \"где степень двойки -\", k)"
   ]
  },
  {
   "cell_type": "code",
   "execution_count": 27,
   "id": "0acca293",
   "metadata": {},
   "outputs": [
    {
     "name": "stdout",
     "output_type": "stream",
     "text": [
      "Машинный эпсилон - 2.220446049250313e-16 где степень двойки - 53\n"
     ]
    }
   ],
   "source": [
    "eps = 1.0\n",
    "k = 1\n",
    "\n",
    "while (1 + eps / 2) > 1:\n",
    "    eps /= 2\n",
    "    k += 1\n",
    "    \n",
    "print(\"Машинный эпсилон -\", eps, \"где степень двойки -\", k)"
   ]
  },
  {
   "cell_type": "markdown",
   "id": "5a4493d8",
   "metadata": {},
   "source": [
    "## Задача 1\n",
    "\n",
    "Осуществим рекурсивное вычисление значения заданной функции $f = \\sqrt{2x}$ и возврат к исходному\n",
    "значению $x = 0.6$, используя рекурсивное вычисление обратной функции. Вычислить разность\n",
    "полученного значения и исходной величины $x$. Определить количество верных цифр в\n",
    "значении, полученном рекурсивным вычислением обратной функции \n",
    "1. формула обратной функции $g(x)=\\frac{x^2}{2}$"
   ]
  },
  {
   "cell_type": "code",
   "execution_count": 44,
   "id": "65c792ce",
   "metadata": {},
   "outputs": [],
   "source": [
    "# прямая функция\n",
    "def f(x):\n",
    "    res = (2 * x) ** 0.5\n",
    "    return res\n",
    "\n",
    "# обратная функция\n",
    "def g(y):\n",
    "    res = (y ** 2) / 2.0\n",
    "    return res"
   ]
  },
  {
   "cell_type": "markdown",
   "id": "a77c7b9e",
   "metadata": {},
   "source": [
    "2. Глубина рекурсии N = 23. Начальное значение $s = x_0 = 0.6$.   "
   ]
  },
  {
   "cell_type": "code",
   "execution_count": 45,
   "id": "93c26650",
   "metadata": {},
   "outputs": [],
   "source": [
    "N = 13 + 10 # константа "
   ]
  },
  {
   "cell_type": "markdown",
   "id": "37836460",
   "metadata": {},
   "source": [
    "3. В цикле по i от 0 до N вычислять следующее значение величины s как значение функции от предыдущего значения s = f(s).  "
   ]
  },
  {
   "cell_type": "code",
   "execution_count": 46,
   "id": "794431f4",
   "metadata": {},
   "outputs": [],
   "source": [
    "x0 = 0.6 # начальное значение\n",
    "s = x0\n",
    "for i in range(N):\n",
    "    s = f(s)"
   ]
  },
  {
   "cell_type": "markdown",
   "id": "813e061e",
   "metadata": {},
   "source": [
    "4. Задать начальное значение для обратной рекурсии q = s."
   ]
  },
  {
   "cell_type": "code",
   "execution_count": 47,
   "id": "7f4f11f1",
   "metadata": {},
   "outputs": [],
   "source": [
    "q = s"
   ]
  },
  {
   "cell_type": "markdown",
   "id": "2c1bfd35",
   "metadata": {},
   "source": [
    "5. В цикле по i от 0 до N вычислять следующее значение величины q как значение обратной функции (выведенной в п. 1) от предыдущего значения q = g(q)."
   ]
  },
  {
   "cell_type": "code",
   "execution_count": 48,
   "id": "f6a9e388",
   "metadata": {},
   "outputs": [],
   "source": [
    "for i in range(N):\n",
    "    q = g(q)"
   ]
  },
  {
   "cell_type": "markdown",
   "id": "3c6aa670",
   "metadata": {},
   "source": [
    "Вычислим разность полученного значения и исходной величины $x$. $\\Delta = |q-x|$"
   ]
  },
  {
   "cell_type": "code",
   "execution_count": 49,
   "id": "31da3457",
   "metadata": {},
   "outputs": [],
   "source": [
    "delta = abs(q - x0) # погрешность"
   ]
  },
  {
   "cell_type": "code",
   "execution_count": 50,
   "id": "b63ffd21",
   "metadata": {},
   "outputs": [
    {
     "name": "stdout",
     "output_type": "stream",
     "text": [
      "исходное значение - 0.6\n",
      "полученное приближенное значение - 0.6000000002518181 его погрешность - 2.518181219102189e-10\n"
     ]
    }
   ],
   "source": [
    "print(\"исходное значение -\", x0)\n",
    "print(\"полученное приближенное значение -\", q, \"его погрешность -\", delta)"
   ]
  },
  {
   "cell_type": "code",
   "execution_count": 58,
   "id": "dd47f16c",
   "metadata": {},
   "outputs": [
    {
     "name": "stdout",
     "output_type": "stream",
     "text": [
      "верных цифр -  9\n"
     ]
    }
   ],
   "source": [
    "def cor_fig(n, delta):\n",
    "    n_len = str(n)[::-1].find('.')\n",
    "    fig = 1 / 10\n",
    "    cnt = 0\n",
    "    for i in range(n_len):\n",
    "        if (fig >= delta):\n",
    "            cnt += 1\n",
    "            fig /= 10\n",
    "        else:\n",
    "            return cnt\n",
    "        \n",
    "print('верных цифр - ', cor_fig(q, delta))"
   ]
  },
  {
   "cell_type": "markdown",
   "id": "154c5532",
   "metadata": {},
   "source": [
    "Количество верных цифр в значении, полученном рекурсивным вычислением обратной функции = 9"
   ]
  },
  {
   "cell_type": "markdown",
   "id": "e906c0e5",
   "metadata": {},
   "source": [
    "## Задача 2\n",
    "\n",
    "Используя алгоритм выполнения Задачи 1, для каждого значения глубины рекурсии N от 10 до\n",
    "80 определить количество верных цифр в полученном приближенном значении исходной\n",
    "величины."
   ]
  },
  {
   "cell_type": "code",
   "execution_count": 59,
   "id": "581ffb6e",
   "metadata": {},
   "outputs": [],
   "source": [
    "import pandas as pd"
   ]
  },
  {
   "cell_type": "code",
   "execution_count": 60,
   "id": "7249eafe",
   "metadata": {},
   "outputs": [],
   "source": [
    "pd.reset_option('precision', 15)"
   ]
  },
  {
   "cell_type": "code",
   "execution_count": 61,
   "id": "bef5bba5",
   "metadata": {},
   "outputs": [],
   "source": [
    "results = []\n",
    "for n in range(10, 81, 10):\n",
    "    x0 = 0.6\n",
    "    s = x0\n",
    "    for i in range(n):\n",
    "        s = f(s)\n",
    "    q = s\n",
    "    for i in range(n):\n",
    "        q = g(q)\n",
    "    delta = abs(q - x0)\n",
    "    results.append([n, q, delta, cor_fig(q, delta)])\n",
    "    # print(\"N =\", n, \"     полученное приближенное значение -\", q, \"     его погрешность -\", delta)"
   ]
  },
  {
   "cell_type": "code",
   "execution_count": 62,
   "id": "52016ff7",
   "metadata": {},
   "outputs": [
    {
     "name": "stdout",
     "output_type": "stream",
     "text": [
      "    N                   q               q - x  cor fig\n",
      "0  10  0.6000000000000447  0.0000000000000447       13\n",
      "1  20  0.6000000000422979  0.0000000000422979       10\n",
      "2  30  0.5999999913116204  0.0000000086883796        8\n",
      "3  40  0.5999959858717221  0.0000040141282779        5\n",
      "4  50  0.6493049341094286  0.0493049341094286        1\n",
      "5  60  2.0000000000000000  1.3999999999999999        0\n",
      "6  70  2.0000000000000000  1.3999999999999999        0\n",
      "7  80  2.0000000000000000  1.3999999999999999        0\n"
     ]
    }
   ],
   "source": [
    "pd.set_option('display.precision', 16)\n",
    "df = pd.DataFrame(results, columns = ['N','q', 'q - x', 'cor fig'])\n",
    "print(df)"
   ]
  },
  {
   "cell_type": "markdown",
   "id": "7b8bf670",
   "metadata": {},
   "source": [
    "При увеличении значения глубины рекурсии, абсолютная погрешность числа х будет увеличиваться, что влечет за собой уменьшение количества верных цифр. Это происходит из-за того, что значение функции в каждой итерации цикла отсекается, а также округляется последний разряд этого значения ввиду ограниченности машинного эпсилон, в результате чего происходит накопление погрешности."
   ]
  },
  {
   "cell_type": "markdown",
   "id": "a76a10bb",
   "metadata": {},
   "source": [
    "###### Вывод. \n",
    "Понятно что у машины есть пределы и ограничения. Но я не особо задумывался об этом раньше. В этой лабораторной я изучил эти пределы и понаблюдал за ними вблизи"
   ]
  }
 ],
 "metadata": {
  "kernelspec": {
   "display_name": "Python 3 (ipykernel)",
   "language": "python",
   "name": "python3"
  },
  "language_info": {
   "codemirror_mode": {
    "name": "ipython",
    "version": 3
   },
   "file_extension": ".py",
   "mimetype": "text/x-python",
   "name": "python",
   "nbconvert_exporter": "python",
   "pygments_lexer": "ipython3",
   "version": "3.9.13"
  }
 },
 "nbformat": 4,
 "nbformat_minor": 5
}
